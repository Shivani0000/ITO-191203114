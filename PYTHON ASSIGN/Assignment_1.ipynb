{
  "nbformat": 4,
  "nbformat_minor": 0,
  "metadata": {
    "colab": {
      "provenance": []
    },
    "kernelspec": {
      "name": "python3",
      "display_name": "Python 3"
    },
    "language_info": {
      "name": "python"
    }
  },
  "cells": [
    {
      "cell_type": "code",
      "execution_count": null,
      "metadata": {
        "id": "9zp_i6XhOrgJ",
        "colab": {
          "base_uri": "https://localhost:8080/"
        },
        "outputId": "60bb38f5-54fa-4ca7-f342-47d43336dff8"
      },
      "outputs": [
        {
          "output_type": "stream",
          "name": "stdout",
          "text": [
            "Prices on Each Date:\n",
            "Price of Day 1 is 100\n",
            "Price of Day 2 is 180\n",
            "Price of Day 3 is 260\n",
            "Price of Day 4 is 310\n",
            "Price of Day 5 is 40\n",
            "Price of Day 6 is 535\n",
            "Price of Day 7 is 695\n",
            "Buy on day 5 and sell on day 7\n"
          ]
        }
      ],
      "source": [
        "def find_best_days(prices):\n",
        "    min_price = float('inf')\n",
        "    max_profit = 0\n",
        "    buy_day = 0\n",
        "    sell_day = 0\n",
        "    \n",
        "    for i in range(len(prices)):\n",
        "        if prices[i] < min_price:\n",
        "            min_price = prices[i]\n",
        "            buy_day = i\n",
        "        \n",
        "        profit = prices[i] - min_price\n",
        "        if profit > max_profit:\n",
        "            max_profit = profit\n",
        "            sell_day = i\n",
        "    \n",
        "    return (buy_day+1, sell_day+1)\n",
        "prices = [100, 180, 260, 310, 40, 535, 695]\n",
        "print(f\"Prices on Each Date:\")\n",
        "for i in range(0,len(prices)):\n",
        "    print(\"Price of Day\",i+1,\"is\",prices[i])\n",
        "best_days = find_best_days(prices)\n",
        "print(f\"Buy on day {best_days[0]} and sell on day {best_days[1]}\")"
      ]
    },
    {
      "cell_type": "code",
      "source": [
        "def find_trilogy_year(books):\n",
        "    years = sorted(set(books.values()))\n",
        "    \n",
        "    for i in range(len(years)-2):\n",
        "        if (years[i+2] - years[i+1] == years[i+1] - years[i]) and \\\n",
        "        any(years[i+1] == year for book, year in books.items() if years[i] <= year <= years[i+2]):\n",
        "            return years[i]\n",
        "    \n",
        "    return None\n",
        "\n",
        "books = {'The Hunger Games': 2008, 'Catching Fire': 2009, 'Mockingjay': 2010, 'The Lord of the Rings': 1954, \\\n",
        "                 'The Return of the King': 1956, 'Divergent': 2011, 'Insurgent':2012,'Allegiant':2013,  'The Two Towers':1955}\n",
        "trilogy_year = find_trilogy_year(books)\n",
        "print(f\"The earliest year in which a trilogy was published is {trilogy_year}\")\n"
      ],
      "metadata": {
        "colab": {
          "base_uri": "https://localhost:8080/"
        },
        "id": "HUCs9LsaPR8E",
        "outputId": "f8b8a9ae-efd9-4545-83df-4793ea4c6cfb"
      },
      "execution_count": null,
      "outputs": [
        {
          "output_type": "stream",
          "name": "stdout",
          "text": [
            "The earliest year in which a trilogy was published is 1954\n"
          ]
        }
      ]
    },
    {
      "cell_type": "code",
      "source": [
        "import csv\n",
        "\n",
        "with open('/content/3_CSV.csv') as file:\n",
        "    reader = csv.reader(file)\n",
        "    next(reader)\n",
        "    prices = {}\n",
        "    for row in reader:\n",
        "        ticker, date, price = row\n",
        "        price = float(price)\n",
        "        if ticker in prices:\n",
        "            prices[ticker].append(price)\n",
        "        else:\n",
        "            prices[ticker] = [price]\n",
        "\n",
        "for ticker, price_list in prices.items():\n",
        "    highest_price = max(price_list)\n",
        "    lowest_price = min(price_list)\n",
        "    print(f\"{ticker}: Highest Price = ${highest_price:.2f}, Lowest Price = ${lowest_price:.2f}\")"
      ],
      "metadata": {
        "colab": {
          "base_uri": "https://localhost:8080/"
        },
        "id": "MyxEk2WdPUmZ",
        "outputId": "18a0003d-240d-4e82-f5b7-f38500788e47"
      },
      "execution_count": null,
      "outputs": [
        {
          "output_type": "stream",
          "name": "stdout",
          "text": [
            "AAPL: Highest Price = $142.20, Lowest Price = $135.90\n",
            "GOOG: Highest Price = $2125.50, Lowest Price = $2098.00\n",
            "MSFT: Highest Price = $345.20, Lowest Price = $342.10\n"
          ]
        }
      ]
    },
    {
      "cell_type": "code",
      "source": [
        "list_of_lists =  [[10, 20], [40], [30, 56, 25], [10, 20], [33], [40]]\n",
        "\n",
        "unique_lists = set()\n",
        "\n",
        "for lst in list_of_lists:\n",
        "    lst_tuple = tuple(lst)\n",
        "    unique_lists.add(lst_tuple)\n",
        "\n",
        "unique_list_of_lists = [list(lst_tuple) for lst_tuple in unique_lists]\n",
        "\n",
        "print(\"Original List of Lists:\")\n",
        "print(list_of_lists)\n",
        "print(\"Unique List of Lists:\")\n",
        "print(unique_list_of_lists)\n"
      ],
      "metadata": {
        "colab": {
          "base_uri": "https://localhost:8080/"
        },
        "id": "jMBbDm46Pe3m",
        "outputId": "04a22b1a-bb11-4fcd-f6d5-c2530802f4be"
      },
      "execution_count": null,
      "outputs": [
        {
          "output_type": "stream",
          "name": "stdout",
          "text": [
            "Original List of Lists:\n",
            "[[10, 20], [40], [30, 56, 25], [10, 20], [33], [40]]\n",
            "Unique List of Lists:\n",
            "[[40], [33], [30, 56, 25], [10, 20]]\n"
          ]
        }
      ]
    },
    {
      "cell_type": "code",
      "source": [
        "def shift_left(lst):\n",
        "    if len(lst) <= 1:\n",
        "        return lst\n",
        "    shifted_lst = lst[1:] + [lst[0]]\n",
        "    return shifted_lst\n",
        "list1 = [1,2,3]\n",
        "print(shift_left(list1))"
      ],
      "metadata": {
        "colab": {
          "base_uri": "https://localhost:8080/"
        },
        "id": "rd_qlu8wPoyN",
        "outputId": "db86bd95-5ca6-497a-8b6e-9f093a080187"
      },
      "execution_count": null,
      "outputs": [
        {
          "output_type": "stream",
          "name": "stdout",
          "text": [
            "[2, 3, 1]\n"
          ]
        }
      ]
    },
    {
      "cell_type": "code",
      "source": [
        "def count_occurrences(lst):\n",
        "    count_dict = {}\n",
        "    for elem in lst:\n",
        "        if elem in count_dict:\n",
        "            count_dict[elem] += 1\n",
        "        else:\n",
        "            count_dict[elem] = 1\n",
        "    return count_dict\n",
        "list1 =[11, 45, 8, 11, 23, 45, 23, 45, 89, 11, 89] \n",
        "print(count_occurrences(list1))"
      ],
      "metadata": {
        "colab": {
          "base_uri": "https://localhost:8080/"
        },
        "id": "Z-_b0auJPr1j",
        "outputId": "97766a88-a889-4fdc-9a82-a60408481845"
      },
      "execution_count": null,
      "outputs": [
        {
          "output_type": "stream",
          "name": "stdout",
          "text": [
            "{11: 3, 45: 3, 8: 1, 23: 2, 89: 2}\n"
          ]
        }
      ]
    },
    {
      "cell_type": "code",
      "source": [],
      "metadata": {
        "id": "w4rZ5r2TPvWS"
      },
      "execution_count": null,
      "outputs": []
    }
  ]
}